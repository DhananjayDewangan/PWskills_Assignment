{
 "cells": [
  {
   "cell_type": "code",
   "execution_count": 3,
   "id": "3c9dd5b1-7ea9-4fa5-a50f-69f1007ac8f5",
   "metadata": {},
   "outputs": [
    {
     "name": "stdout",
     "output_type": "stream",
     "text": [
      "Input list elements:\n",
      "10\n",
      "20\n",
      "30\n",
      "40\n",
      "50\n",
      "1\n",
      "2\n",
      "3\n",
      "4\n",
      "5\n",
      "6\n",
      "7\n",
      "8\n",
      "9\n"
     ]
    }
   ],
   "source": [
    "\"\"\"Explain with an example each when to use a for loop and a while loop.\n",
    "ans- FOR LOOP - Generaly,The for loop is used when we know the number of iterations, that is, how many times a statement must be executed.\n",
    "     That is why, when we initialize the for loop, we must define the ending point.\n",
    "     \n",
    "Example :\n",
    "The following program prints all the list elements using the for loop −   \"\"\"\n",
    "# input list\n",
    "inputList = [10, 20, 30, 40, 50]\n",
    "print(\"Input list elements:\")\n",
    "# traversing through all elements of the list using for loop\n",
    "for element in inputList:\n",
    "   # printing each element of the list\n",
    "   print(element)\n",
    "  \n",
    "\"\"\"\n",
    "WHILE LOOP - A while loop is used when the number of iterations is unknown. It is used when we need to end the loop on a condition other\n",
    "             than the number of repetitions. It is not necessary to know the condition ahead of time in this case. That is why we can use \n",
    "             a boolean expression in the loop's initialization.\n",
    "                  When we need to end the loop on a condition other than the number of times, we use a while loop. In this case, it is not \n",
    "             necessary to know the condition beforehand. That is why we can give a boolean expression in the initialization of the loop.\n",
    "             \n",
    "Example :\n",
    "The following program prints all the list elements using the While loop −  \"\"\"\n",
    "# Initializing a dummy variable with 1\n",
    "i = 1\n",
    "# Iterate until the given condition is true\n",
    "while i < 10:\n",
    "   # printing the current value of the above variable\n",
    "   print(i)\n",
    "   # incrementing the value of i value by 1\n",
    "   i += 1 \n"
   ]
  },
  {
   "cell_type": "code",
   "execution_count": 4,
   "id": "401095c2-60d8-4f48-9d39-f35557dde90f",
   "metadata": {},
   "outputs": [
    {
     "name": "stdout",
     "output_type": "stream",
     "text": [
      "The Sum of First 10 natural number is 55 and Product of First 10 natural number is 3628800.\n",
      "The Sum of First 10 natural number is 55 and Product of First 10 natural number is 3628800.\n"
     ]
    }
   ],
   "source": [
    "\"\"\"Q2. Write a python program to print the sum and product of the first 10 natural numbers using for\n",
    "   and while loop.\n",
    "ans - \n",
    " \n",
    "1.Sum and product of first 10 natural numberssing for loop :-   \"\"\"\n",
    "\n",
    "Sum = 0\n",
    "Product = 1\n",
    "\n",
    "for i in range(1,11):\n",
    "    Sum += i\n",
    "    Product *= i\n",
    "\n",
    "print(f\"The Sum of First 10 natural number is {Sum} and Product of First 10 natural number is {Product}.\")\n",
    "\n",
    "#2.Sum and product of first 10 natural numberssing While loop :-\n",
    "\n",
    "Sum = 0\n",
    "Product = 1 \n",
    "i = 1\n",
    "\n",
    "while i <= 10:\n",
    "    Sum += i\n",
    "    Product *= i\n",
    "    i += 1\n",
    "print(f\"The Sum of First 10 natural number is {Sum} and Product of First 10 natural number is {Product}.\")\n"
   ]
  },
  {
   "cell_type": "code",
   "execution_count": 7,
   "id": "3f61f4d1-ca9f-47ce-9bb0-cbe83b5bf40c",
   "metadata": {},
   "outputs": [
    {
     "name": "stdin",
     "output_type": "stream",
     "text": [
      "Enter the units of electricity consumed in a month :-  310\n"
     ]
    },
    {
     "name": "stdout",
     "output_type": "stream",
     "text": [
      "Your Total Household Electricity Bill is 2250.0 RS.\n"
     ]
    }
   ],
   "source": [
    "\"\"\"Q3. Create a python program to compute the electricity bill for a household.\n",
    "       The per-unit charges in rupees are as follows: For the first 100 units, the user will be charged Rs. 4.5 per unit, for the next 100 units, the user will \n",
    "       be charged Rs. 6 per unit, and for the next 100 units, the user will be charged Rs. 10 per unit, After 300 units and above the user will be charged Rs. 20 per unit.\n",
    "             \n",
    "       You are required to take the units of electricity consumed in a month from the user as input.\n",
    "          Your program must pass this test case: when the unit of electricity consumed by the user in a month is\n",
    "          310, the total electricity bill should be 2250. \"\"\"\n",
    "          \n",
    "#Solution :\n",
    "\n",
    "monthly_unit = int(input(\"Enter the units of electricity consumed in a month :- \"))\n",
    "\n",
    "electricity_bill = 0\n",
    "if monthly_unit >= 0 and monthly_unit <= 100 :\n",
    "    electricity_bill = monthly_unit * 4.5\n",
    "elif monthly_unit >= 101 and monthly_unit <= 200 :\n",
    "    above_unit = monthly_unit - 100\n",
    "    electricity_bill = above_unit * 6 + 100 * 4.5\n",
    "elif monthly_unit >= 201 and monthly_unit <= 300 :\n",
    "    above_unit = monthly_unit - 200\n",
    "    electricity_bill = above_unit * 10 + 100 * 4.5 + 100 * 6\n",
    "else :\n",
    "    above_unit = monthly_unit - 300\n",
    "    electricity_bill = above_unit * 20 + 100 * 4.5 + 100 * 6 + 100 * 10\n",
    "    \n",
    "print(f\"Your Total Household Electricity Bill is {electricity_bill} RS.\")\n",
    "\n",
    "\n",
    "\n"
   ]
  },
  {
   "cell_type": "code",
   "execution_count": 16,
   "id": "4b064187-d7dc-425b-ab9f-8c6cb1dc3e53",
   "metadata": {},
   "outputs": [
    {
     "name": "stdout",
     "output_type": "stream",
     "text": [
      "[2, 4, 5, 6, 8, 10, 12, 14, 15, 16, 18, 20, 22, 24, 25, 26, 28, 30, 32, 34, 35, 36, 38, 40, 42, 44, 45, 46, 48, 50, 52, 54, 55, 56, 58, 60, 62, 64, 65, 66, 68, 70, 72, 74, 75, 76, 78, 80, 82, 84, 85, 86, 88, 90, 92, 94, 95, 96, 98, 100]\n",
      "\n",
      "[2, 4, 5, 6, 8, 10, 12, 14, 15, 16, 18, 20, 22, 24, 25, 26, 28, 30, 32, 34, 35, 36, 38, 40, 42, 44, 45, 46, 48, 50, 52, 54, 55, 56, 58, 60, 62, 64, 65, 66, 68, 70, 72, 74, 75, 76, 78, 80, 82, 84, 85, 86, 88, 90, 92, 94, 95, 96, 98, 100]\n"
     ]
    }
   ],
   "source": [
    "\"\"\"Q4. Create a list of numbers from 1 to 100. Use for loop and while loop to calculate the cube of each\n",
    "   number and if the cube of that number is divisible by 4 or 5 then append that number in a list and print\n",
    "   that list.\"\"\"\n",
    "\n",
    "#Solution :\n",
    "\n",
    "#BY For Loop-\n",
    "\n",
    "l1 = list(range(1,101))\n",
    "l2 = []\n",
    "cube =0\n",
    "for i in l1:\n",
    "    cube = i**3\n",
    "    if cube%4==0 or cube%5==0:\n",
    "        l2.append(i)\n",
    "print(l2)\n",
    "\n",
    "print()\n",
    "\n",
    "#BY While Loop-\n",
    "\n",
    "l2.clear()\n",
    "cube = 0\n",
    "i = 1\n",
    "while i<=100:\n",
    "    cube = i**3\n",
    "    if cube%4==0 or cube%5==0:\n",
    "        l2.append(i)\n",
    "    i+=1\n",
    "print(l2)\n"
   ]
  },
  {
   "cell_type": "code",
   "execution_count": null,
   "id": "79322c1c-6111-4dc9-9fbe-24ac1c6cafa6",
   "metadata": {},
   "outputs": [],
   "source": [
    "\"\"\"Q5. Write a program to filter count vowels in the below-given string.\n",
    "       string = \"I want to become a data scientist\" \"\"\"\n",
    "#Solution :\n",
    "\n",
    "string = \"I want to become a data scientist\"\n",
    "l = ['a','e','i','o','u','A','E','I','O','U']\n",
    "count = 0\n",
    "\n",
    "for i in string:\n",
    "    if i in l:\n",
    "        count+=1\n",
    "        \n",
    "print(\"The Total number of vowels in below-given string is is :- {}\".format(count))\n",
    "#Sir, I didn't understand this question, what is filter count vowels, I thought this question"
   ]
  },
  {
   "cell_type": "code",
   "execution_count": null,
   "id": "d026680e-55a2-4165-9c20-0ffb20ef81b2",
   "metadata": {},
   "outputs": [],
   "source": []
  },
  {
   "cell_type": "code",
   "execution_count": null,
   "id": "0a900e16-d8bc-491f-9fc8-5ae53012e8d2",
   "metadata": {},
   "outputs": [],
   "source": []
  }
 ],
 "metadata": {
  "kernelspec": {
   "display_name": "Python 3 (ipykernel)",
   "language": "python",
   "name": "python3"
  },
  "language_info": {
   "codemirror_mode": {
    "name": "ipython",
    "version": 3
   },
   "file_extension": ".py",
   "mimetype": "text/x-python",
   "name": "python",
   "nbconvert_exporter": "python",
   "pygments_lexer": "ipython3",
   "version": "3.10.8"
  }
 },
 "nbformat": 4,
 "nbformat_minor": 5
}
